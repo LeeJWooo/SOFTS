{
 "cells": [
  {
   "cell_type": "markdown",
   "id": "d3fbf38ad2f4ccaa",
   "metadata": {
    "collapsed": false
   },
   "source": [
    "# Guidance for training a model with your own data"
   ]
  },
  {
   "cell_type": "markdown",
   "id": "6e474201f7f64ab4",
   "metadata": {
    "collapsed": false
   },
   "source": [
    "## 1. Import the necessary packages"
   ]
  },
  {
   "cell_type": "code",
   "execution_count": 2,
   "id": "356a8bc9c1e1349c",
   "metadata": {
    "ExecuteTime": {
     "end_time": "2024-06-13T12:01:15.177812Z",
     "start_time": "2024-06-13T12:01:14.568408500Z"
    },
    "collapsed": false
   },
   "outputs": [],
   "source": [
    "import argparse\n",
    "import os\n",
    "import random\n",
    "\n",
    "import numpy as np\n",
    "import pandas as pd\n",
    "import torch\n",
    "\n",
    "from softs.exp.exp_custom import Exp_Custom"
   ]
  },
  {
   "cell_type": "markdown",
   "id": "f4b69019515b59d7",
   "metadata": {
    "collapsed": false
   },
   "source": [
    "## 2. Define the hyperparameters"
   ]
  },
  {
   "cell_type": "code",
   "execution_count": 3,
   "id": "e886ee3de8bbb1e7",
   "metadata": {
    "ExecuteTime": {
     "end_time": "2024-06-13T12:01:15.242241600Z",
     "start_time": "2024-06-13T12:01:15.178809900Z"
    },
    "collapsed": false
   },
   "outputs": [
    {
     "name": "stdout",
     "output_type": "stream",
     "text": [
      "Args in experiment:\n",
      "Namespace(root_path='./dataset/ETT-small/', data_path='ETTm1.csv', data='ETTm1', features='M', freq='h', seq_len=96, pred_len=96, model='SOFTS', checkpoints='./checkpoints/', d_model=128, d_core=64, d_ff=128, e_layers=2, learning_rate=0.0003, lradj='cosine', train_epochs=50, patience=3, batch_size=16, dropout=0.0, activation='gelu', use_norm=True, num_workers=0, use_gpu=False, gpu='0', save_model=True)\n"
     ]
    }
   ],
   "source": [
    "# fix seed for reproducibility\n",
    "fix_seed = 2021\n",
    "random.seed(fix_seed)\n",
    "torch.manual_seed(fix_seed)\n",
    "np.random.seed(fix_seed)\n",
    "torch.set_num_threads(6)\n",
    "\n",
    "# basic config\n",
    "config = {\n",
    "    # dataset settings\n",
    "    'root_path': './dataset/ETT-small/',\n",
    "    'data_path': 'ETTm1.csv',\n",
    "    'data': 'ETTm1',\n",
    "    'features': 'M',\n",
    "    'freq': 'h',\n",
    "    'seq_len': 96,\n",
    "    'pred_len': 96,\n",
    "    # model settings\n",
    "    'model': 'SOFTS',\n",
    "    'checkpoints': './checkpoints/',\n",
    "    'd_model': 128,\n",
    "    'd_core': 64,\n",
    "    'd_ff': 128,\n",
    "    'e_layers': 2,\n",
    "    'learning_rate': 0.0003,\n",
    "    'lradj': 'cosine',\n",
    "    'train_epochs': 50,\n",
    "    'patience': 3,\n",
    "    'batch_size': 16,\n",
    "    'dropout': 0.0,\n",
    "    'activation': 'gelu',\n",
    "    'use_norm': True,\n",
    "    # system settings\n",
    "    'num_workers': 0,\n",
    "    'use_gpu': True,\n",
    "    'gpu': '0',\n",
    "    'save_model': True,\n",
    "}\n",
    "\n",
    "parser = argparse.ArgumentParser(description='SOFTS')\n",
    "args = parser.parse_args([])\n",
    "args.__dict__.update(config)\n",
    "args.use_gpu = True if torch.cuda.is_available() and args.use_gpu else False\n",
    "\n",
    "print('Args in experiment:')\n",
    "print(args)"
   ]
  },
  {
   "cell_type": "markdown",
   "id": "171fc13ff2726f",
   "metadata": {
    "collapsed": false
   },
   "source": [
    "## 3. Prepare the dataset\n",
    "Organize your data in the following format:\n",
    "- The dataset should be a csv file.\n",
    "- If there is a time feature, the first column contains timestamps in the format 'YYYY-MM-DD HH:MM:SS'. If there's no time feature, the dataset starts directly with the features.\n",
    "- If the parameter `features` is 'M', the following columns are both the features and the targets. If `features` is 'MS', the following columns are the features, and the last column is the target."
   ]
  },
  {
   "cell_type": "code",
   "execution_count": 4,
   "id": "8bc7a801398c68de",
   "metadata": {
    "ExecuteTime": {
     "end_time": "2024-06-13T12:01:15.594744200Z",
     "start_time": "2024-06-13T12:01:15.246228700Z"
    },
    "collapsed": false
   },
   "outputs": [
    {
     "name": "stdout",
     "output_type": "stream",
     "text": [
      "                  date   HUFL   HULL   MUFL   MULL   LUFL   LULL         OT\n",
      "0  2016-07-01 00:00:00  5.827  2.009  1.599  0.462  4.203  1.340  30.531000\n",
      "1  2016-07-01 00:15:00  5.760  2.076  1.492  0.426  4.264  1.401  30.459999\n",
      "2  2016-07-01 00:30:00  5.760  1.942  1.492  0.391  4.234  1.310  30.038000\n",
      "3  2016-07-01 00:45:00  5.760  1.942  1.492  0.426  4.234  1.310  27.013000\n",
      "4  2016-07-01 01:00:00  5.693  2.076  1.492  0.426  4.142  1.371  27.787001\n"
     ]
    }
   ],
   "source": [
    "# load data\n",
    "data = pd.read_csv(os.path.join(args.root_path, args.data_path))\n",
    "print(data.head())\n",
    "\n",
    "# split data\n",
    "train_data = data.iloc[: 12 * 30 * 24 * 4]\n",
    "vali_data = data.iloc[12 * 30 * 24 * 4 - args.seq_len: 12 * 30 * 24 * 4 + 4 * 30 * 24 * 4]\n",
    "test_data = data.iloc[12 * 30 * 24 * 4 + 4 * 30 * 24 * 4 - args.seq_len: 12 * 30 * 24 * 4 + 8 * 30 * 24 * 4]\n",
    "\n",
    "# optional: scale data\n",
    "from sklearn.preprocessing import StandardScaler\n",
    "\n",
    "scaler = StandardScaler()\n",
    "if 'date' in train_data.columns:\n",
    "    scaler.fit(train_data.iloc[:, 1:])\n",
    "    train_data.iloc[:, 1:] = scaler.transform(train_data.iloc[:, 1:])\n",
    "    vali_data.iloc[:, 1:] = scaler.transform(vali_data.iloc[:, 1:])\n",
    "    test_data.iloc[:, 1:] = scaler.transform(test_data.iloc[:, 1:])\n",
    "else:\n",
    "    scaler.fit(train_data.iloc[:, :])\n",
    "    train_data.iloc[:, :] = scaler.transform(train_data.iloc[:, :])\n",
    "    vali_data.iloc[:, :] = scaler.transform(vali_data.iloc[:, :])\n",
    "    test_data.iloc[:, :] = scaler.transform(test_data.iloc[:, :])"
   ]
  },
  {
   "cell_type": "markdown",
   "id": "c04cef58eb7d57d6",
   "metadata": {
    "collapsed": false
   },
   "source": [
    "## 4. Train and Evaluate the model\n"
   ]
  },
  {
   "cell_type": "code",
   "execution_count": 5,
   "id": "77857ed9da69bd61",
   "metadata": {
    "ExecuteTime": {
     "end_time": "2024-06-13T12:02:52.982915200Z",
     "start_time": "2024-06-13T12:01:15.589759400Z"
    },
    "collapsed": false
   },
   "outputs": [
    {
     "name": "stdout",
     "output_type": "stream",
     "text": [
      "Use CPU\n",
      ">>>>>>>start training : ETTm1_SOFTS_96_96>>>>>>>>>>>>>>>>>>>>>>>>>>\n",
      "\titers: 100, epoch: 1 | loss: 0.4502901\n",
      "\tspeed: 0.0346s/iter; left time: 3713.4194s\n",
      "\titers: 200, epoch: 1 | loss: 0.2311976\n",
      "\tspeed: 0.0216s/iter; left time: 2312.1128s\n",
      "\titers: 300, epoch: 1 | loss: 0.4284904\n",
      "\tspeed: 0.0211s/iter; left time: 2257.1830s\n",
      "\titers: 400, epoch: 1 | loss: 0.2273360\n",
      "\tspeed: 0.0217s/iter; left time: 2317.9152s\n",
      "\titers: 500, epoch: 1 | loss: 0.2790277\n",
      "\tspeed: 0.0216s/iter; left time: 2310.6807s\n",
      "\titers: 600, epoch: 1 | loss: 0.3878612\n",
      "\tspeed: 0.0246s/iter; left time: 2624.5404s\n",
      "\titers: 700, epoch: 1 | loss: 0.2981950\n",
      "\tspeed: 0.0230s/iter; left time: 2456.7815s\n",
      "\titers: 800, epoch: 1 | loss: 0.2927288\n",
      "\tspeed: 0.0230s/iter; left time: 2448.1631s\n",
      "\titers: 900, epoch: 1 | loss: 0.2378786\n",
      "\tspeed: 0.0237s/iter; left time: 2520.1446s\n",
      "\titers: 1000, epoch: 1 | loss: 0.2747714\n",
      "\tspeed: 0.0235s/iter; left time: 2496.4272s\n",
      "\titers: 1100, epoch: 1 | loss: 0.2853792\n",
      "\tspeed: 0.0228s/iter; left time: 2426.5255s\n",
      "\titers: 1200, epoch: 1 | loss: 0.1828666\n",
      "\tspeed: 0.0232s/iter; left time: 2462.2690s\n",
      "\titers: 1300, epoch: 1 | loss: 0.2705050\n",
      "\tspeed: 0.0228s/iter; left time: 2420.1694s\n",
      "\titers: 1400, epoch: 1 | loss: 0.2755874\n",
      "\tspeed: 0.0233s/iter; left time: 2469.9376s\n",
      "\titers: 1500, epoch: 1 | loss: 0.2691855\n",
      "\tspeed: 0.0236s/iter; left time: 2499.0163s\n",
      "\titers: 1600, epoch: 1 | loss: 0.4658901\n",
      "\tspeed: 0.0234s/iter; left time: 2479.9993s\n",
      "\titers: 1700, epoch: 1 | loss: 0.2197417\n",
      "\tspeed: 0.0228s/iter; left time: 2413.5773s\n",
      "\titers: 1800, epoch: 1 | loss: 0.2484672\n",
      "\tspeed: 0.0225s/iter; left time: 2380.5508s\n",
      "\titers: 1900, epoch: 1 | loss: 0.3482595\n",
      "\tspeed: 0.0234s/iter; left time: 2464.8323s\n",
      "\titers: 2000, epoch: 1 | loss: 0.2288373\n",
      "\tspeed: 0.0263s/iter; left time: 2775.0939s\n",
      "\titers: 2100, epoch: 1 | loss: 0.2283662\n",
      "\tspeed: 0.0235s/iter; left time: 2479.3643s\n",
      "Epoch: 1 cost time: 49.59398889541626\n",
      "Validation loss decreased (inf --> 0.420612).  Saving model ...\n",
      "Epoch: 1, Steps: 2149 | Train Loss: 0.2919458 Vali Loss: 0.4206120 Test Loss: 0.3356172\n",
      "Updating learning rate to 0.0002997040092642407\n",
      "\titers: 100, epoch: 2 | loss: 0.3073509\n",
      "\tspeed: 0.1309s/iter; left time: 13775.9556s\n",
      "\titers: 200, epoch: 2 | loss: 0.2805798\n",
      "\tspeed: 0.0234s/iter; left time: 2454.1643s\n",
      "\titers: 300, epoch: 2 | loss: 0.2753974\n",
      "\tspeed: 0.0229s/iter; left time: 2405.4825s\n",
      "\titers: 400, epoch: 2 | loss: 0.2417739\n",
      "\tspeed: 0.0232s/iter; left time: 2436.1003s\n",
      "\titers: 500, epoch: 2 | loss: 0.2299274\n",
      "\tspeed: 0.0240s/iter; left time: 2513.9883s\n",
      "\titers: 600, epoch: 2 | loss: 0.3818673\n",
      "\tspeed: 0.0271s/iter; left time: 2833.8843s\n",
      "\titers: 700, epoch: 2 | loss: 0.3039897\n",
      "\tspeed: 0.0241s/iter; left time: 2516.0838s\n",
      "\titers: 800, epoch: 2 | loss: 0.2038166\n",
      "\tspeed: 0.0233s/iter; left time: 2430.6393s\n",
      "\titers: 900, epoch: 2 | loss: 0.2882356\n",
      "\tspeed: 0.0234s/iter; left time: 2441.9847s\n",
      "\titers: 1000, epoch: 2 | loss: 0.3660389\n",
      "\tspeed: 0.0240s/iter; left time: 2506.9800s\n",
      "\titers: 1100, epoch: 2 | loss: 0.2842974\n",
      "\tspeed: 0.0239s/iter; left time: 2492.0348s\n",
      "\titers: 1200, epoch: 2 | loss: 0.2350090\n",
      "\tspeed: 0.0230s/iter; left time: 2398.5497s\n",
      "\titers: 1300, epoch: 2 | loss: 0.1949981\n",
      "\tspeed: 0.0231s/iter; left time: 2398.7830s\n",
      "\titers: 1400, epoch: 2 | loss: 0.2457438\n",
      "\tspeed: 0.0225s/iter; left time: 2337.0471s\n",
      "\titers: 1500, epoch: 2 | loss: 0.2737099\n",
      "\tspeed: 0.0238s/iter; left time: 2466.1530s\n",
      "\titers: 1600, epoch: 2 | loss: 0.2107376\n",
      "\tspeed: 0.0230s/iter; left time: 2381.2395s\n",
      "\titers: 1700, epoch: 2 | loss: 0.4329223\n",
      "\tspeed: 0.0233s/iter; left time: 2411.2423s\n",
      "\titers: 1800, epoch: 2 | loss: 0.2561445\n",
      "\tspeed: 0.0237s/iter; left time: 2452.6185s\n",
      "\titers: 1900, epoch: 2 | loss: 0.2356661\n",
      "\tspeed: 0.0252s/iter; left time: 2604.5268s\n",
      "\titers: 2000, epoch: 2 | loss: 0.2818636\n",
      "\tspeed: 0.0258s/iter; left time: 2661.3107s\n",
      "\titers: 2100, epoch: 2 | loss: 0.2996829\n",
      "\tspeed: 0.0254s/iter; left time: 2626.4218s\n",
      "Epoch: 2 cost time: 51.287270069122314\n",
      "Validation loss decreased (0.420612 --> 0.414763).  Saving model ...\n",
      "Epoch: 2, Steps: 2149 | Train Loss: 0.2776073 Vali Loss: 0.4147628 Test Loss: 0.3322258\n",
      "Updating learning rate to 0.0002988172051971717\n",
      "\titers: 100, epoch: 3 | loss: 0.2044309\n",
      "\tspeed: 0.1321s/iter; left time: 13614.7925s\n",
      "\titers: 200, epoch: 3 | loss: 0.2940754\n",
      "\tspeed: 0.0244s/iter; left time: 2508.7030s\n",
      "\titers: 300, epoch: 3 | loss: 0.2542450\n",
      "\tspeed: 0.0233s/iter; left time: 2398.4785s\n",
      "\titers: 400, epoch: 3 | loss: 0.3084833\n",
      "\tspeed: 0.0236s/iter; left time: 2421.6571s\n",
      "\titers: 500, epoch: 3 | loss: 0.3019541\n",
      "\tspeed: 0.0234s/iter; left time: 2404.0860s\n",
      "\titers: 600, epoch: 3 | loss: 0.2384927\n",
      "\tspeed: 0.0241s/iter; left time: 2467.1216s\n",
      "\titers: 700, epoch: 3 | loss: 0.2620094\n",
      "\tspeed: 0.0236s/iter; left time: 2417.8948s\n",
      "\titers: 800, epoch: 3 | loss: 0.2601973\n",
      "\tspeed: 0.0235s/iter; left time: 2407.0990s\n",
      "\titers: 900, epoch: 3 | loss: 0.3213062\n",
      "\tspeed: 0.0231s/iter; left time: 2366.9001s\n",
      "\titers: 1000, epoch: 3 | loss: 0.1989102\n",
      "\tspeed: 0.0249s/iter; left time: 2542.2073s\n",
      "\titers: 1100, epoch: 3 | loss: 0.2717516\n",
      "\tspeed: 0.0237s/iter; left time: 2421.3461s\n",
      "\titers: 1200, epoch: 3 | loss: 0.3782950\n",
      "\tspeed: 0.0239s/iter; left time: 2439.9330s\n",
      "\titers: 1300, epoch: 3 | loss: 0.2307189\n",
      "\tspeed: 0.0232s/iter; left time: 2367.8237s\n",
      "\titers: 1400, epoch: 3 | loss: 0.3082476\n",
      "\tspeed: 0.0246s/iter; left time: 2507.3640s\n",
      "\titers: 1500, epoch: 3 | loss: 0.2294039\n",
      "\tspeed: 0.0245s/iter; left time: 2487.2437s\n",
      "\titers: 1600, epoch: 3 | loss: 0.3299684\n",
      "\tspeed: 0.0236s/iter; left time: 2395.7926s\n",
      "\titers: 1700, epoch: 3 | loss: 0.2940906\n",
      "\tspeed: 0.0231s/iter; left time: 2339.1467s\n",
      "\titers: 1800, epoch: 3 | loss: 0.2599161\n",
      "\tspeed: 0.0236s/iter; left time: 2390.9636s\n",
      "\titers: 1900, epoch: 3 | loss: 0.2554429\n",
      "\tspeed: 0.0236s/iter; left time: 2392.1842s\n",
      "\titers: 2000, epoch: 3 | loss: 0.2616968\n",
      "\tspeed: 0.0232s/iter; left time: 2344.5262s\n",
      "\titers: 2100, epoch: 3 | loss: 0.2059107\n",
      "\tspeed: 0.0231s/iter; left time: 2337.3306s\n",
      "Epoch: 3 cost time: 50.890151023864746\n",
      "EarlyStopping counter: 1 out of 3\n",
      "Epoch: 3, Steps: 2149 | Train Loss: 0.2699784 Vali Loss: 0.4193182 Test Loss: 0.3324978\n",
      "Updating learning rate to 0.0002973430876093033\n",
      "\titers: 100, epoch: 4 | loss: 0.2624498\n",
      "\tspeed: 0.1371s/iter; left time: 13837.1621s\n",
      "\titers: 200, epoch: 4 | loss: 0.2341927\n",
      "\tspeed: 0.0240s/iter; left time: 2421.4483s\n",
      "\titers: 300, epoch: 4 | loss: 0.2806655\n",
      "\tspeed: 0.0236s/iter; left time: 2378.2417s\n",
      "\titers: 400, epoch: 4 | loss: 0.1970888\n",
      "\tspeed: 0.0283s/iter; left time: 2847.4102s\n",
      "\titers: 500, epoch: 4 | loss: 0.3310589\n",
      "\tspeed: 0.0313s/iter; left time: 3150.1800s\n",
      "\titers: 600, epoch: 4 | loss: 0.2471160\n",
      "\tspeed: 0.0245s/iter; left time: 2457.3309s\n",
      "\titers: 700, epoch: 4 | loss: 0.3136977\n",
      "\tspeed: 0.0233s/iter; left time: 2339.0321s\n",
      "\titers: 800, epoch: 4 | loss: 0.3017892\n",
      "\tspeed: 0.0233s/iter; left time: 2332.9126s\n",
      "\titers: 900, epoch: 4 | loss: 0.2710829\n",
      "\tspeed: 0.0250s/iter; left time: 2502.1826s\n",
      "\titers: 1000, epoch: 4 | loss: 0.2175031\n",
      "\tspeed: 0.0237s/iter; left time: 2366.1246s\n",
      "\titers: 1100, epoch: 4 | loss: 0.2247610\n",
      "\tspeed: 0.0233s/iter; left time: 2332.4857s\n",
      "\titers: 1200, epoch: 4 | loss: 0.3575715\n",
      "\tspeed: 0.0231s/iter; left time: 2307.1271s\n",
      "\titers: 1300, epoch: 4 | loss: 0.2926399\n",
      "\tspeed: 0.0238s/iter; left time: 2368.3796s\n",
      "\titers: 1400, epoch: 4 | loss: 0.2353916\n",
      "\tspeed: 0.0241s/iter; left time: 2398.7840s\n",
      "\titers: 1500, epoch: 4 | loss: 0.2515011\n",
      "\tspeed: 0.0228s/iter; left time: 2265.0982s\n",
      "\titers: 1600, epoch: 4 | loss: 0.3442797\n",
      "\tspeed: 0.0238s/iter; left time: 2361.3289s\n",
      "\titers: 1700, epoch: 4 | loss: 0.2821249\n",
      "\tspeed: 0.0250s/iter; left time: 2479.4670s\n",
      "\titers: 1800, epoch: 4 | loss: 0.2420058\n",
      "\tspeed: 0.0257s/iter; left time: 2548.3760s\n",
      "\titers: 1900, epoch: 4 | loss: 0.1916584\n",
      "\tspeed: 0.0240s/iter; left time: 2383.0081s\n",
      "\titers: 2000, epoch: 4 | loss: 0.2087211\n",
      "\tspeed: 0.0242s/iter; left time: 2395.8086s\n",
      "\titers: 2100, epoch: 4 | loss: 0.2392469\n",
      "\tspeed: 0.0252s/iter; left time: 2487.6838s\n",
      "Epoch: 4 cost time: 53.49012994766235\n",
      "EarlyStopping counter: 2 out of 3\n",
      "Epoch: 4, Steps: 2149 | Train Loss: 0.2631689 Vali Loss: 0.4199192 Test Loss: 0.3225049\n",
      "Updating learning rate to 0.00029528747416929463\n",
      "\titers: 100, epoch: 5 | loss: 0.2389572\n",
      "\tspeed: 0.1665s/iter; left time: 16446.4602s\n",
      "\titers: 200, epoch: 5 | loss: 0.2254039\n",
      "\tspeed: 0.0263s/iter; left time: 2595.4781s\n",
      "\titers: 300, epoch: 5 | loss: 0.1690335\n",
      "\tspeed: 0.0245s/iter; left time: 2419.3412s\n",
      "\titers: 400, epoch: 5 | loss: 0.2654132\n",
      "\tspeed: 0.0235s/iter; left time: 2318.0669s\n",
      "\titers: 500, epoch: 5 | loss: 0.2960709\n",
      "\tspeed: 0.0239s/iter; left time: 2349.4769s\n",
      "\titers: 600, epoch: 5 | loss: 0.2547427\n",
      "\tspeed: 0.0241s/iter; left time: 2371.1966s\n",
      "\titers: 700, epoch: 5 | loss: 0.2062961\n",
      "\tspeed: 0.0263s/iter; left time: 2577.2776s\n",
      "\titers: 800, epoch: 5 | loss: 0.2280167\n",
      "\tspeed: 0.0242s/iter; left time: 2370.2795s\n",
      "\titers: 900, epoch: 5 | loss: 0.3190181\n",
      "\tspeed: 0.0240s/iter; left time: 2350.3390s\n",
      "\titers: 1000, epoch: 5 | loss: 0.2625492\n",
      "\tspeed: 0.0242s/iter; left time: 2372.9319s\n",
      "\titers: 1100, epoch: 5 | loss: 0.2490445\n",
      "\tspeed: 0.0241s/iter; left time: 2353.3148s\n",
      "\titers: 1200, epoch: 5 | loss: 0.1740002\n",
      "\tspeed: 0.0235s/iter; left time: 2291.8924s\n",
      "\titers: 1300, epoch: 5 | loss: 0.2677422\n",
      "\tspeed: 0.0249s/iter; left time: 2430.5088s\n",
      "\titers: 1400, epoch: 5 | loss: 0.1987563\n",
      "\tspeed: 0.0233s/iter; left time: 2268.9144s\n",
      "\titers: 1500, epoch: 5 | loss: 0.2449835\n",
      "\tspeed: 0.0240s/iter; left time: 2338.8732s\n",
      "\titers: 1600, epoch: 5 | loss: 0.2414520\n",
      "\tspeed: 0.0248s/iter; left time: 2408.9312s\n",
      "\titers: 1700, epoch: 5 | loss: 0.1924758\n",
      "\tspeed: 0.0235s/iter; left time: 2281.3507s\n",
      "\titers: 1800, epoch: 5 | loss: 0.1906054\n",
      "\tspeed: 0.0239s/iter; left time: 2316.8522s\n",
      "\titers: 1900, epoch: 5 | loss: 0.2673032\n",
      "\tspeed: 0.0257s/iter; left time: 2495.6033s\n",
      "\titers: 2000, epoch: 5 | loss: 0.2476645\n",
      "\tspeed: 0.0259s/iter; left time: 2505.6445s\n",
      "\titers: 2100, epoch: 5 | loss: 0.2506695\n",
      "\tspeed: 0.0235s/iter; left time: 2273.6245s\n",
      "Epoch: 5 cost time: 52.83925914764404\n",
      "EarlyStopping counter: 3 out of 3\n",
      "Early stopping\n",
      ">>>>>>>testing : ETTm1_SOFTS_96_96<<<<<<<<<<<<<<<<<<<<<<<<<<<<<<<<<\n",
      "loading model from ./checkpoints/ETTm1_SOFTS_96_96/checkpoint.pth\n",
      "mse:0.33222576088437106, mae:0.3655468615178728\n"
     ]
    }
   ],
   "source": [
    "Exp = Exp_Custom(args)\n",
    "setting = f'{args.data}_{args.model}_{args.seq_len}_{args.pred_len}'\n",
    "print('>>>>>>>start training : {}>>>>>>>>>>>>>>>>>>>>>>>>>>'.format(setting))\n",
    "Exp.train(setting=setting, train_data=train_data, vali_data=vali_data, test_data=test_data)\n",
    "print('>>>>>>>testing : {}<<<<<<<<<<<<<<<<<<<<<<<<<<<<<<<<<'.format(setting))\n",
    "Exp.test(setting=setting, test_data=test_data)"
   ]
  },
  {
   "cell_type": "markdown",
   "id": "6c25a79ea1985454",
   "metadata": {
    "collapsed": false
   },
   "source": [
    "## 5. Get predictions by the model"
   ]
  },
  {
   "cell_type": "code",
   "execution_count": 6,
   "id": "9f0926408d8d19bf",
   "metadata": {
    "ExecuteTime": {
     "end_time": "2024-06-13T12:02:53.941063400Z",
     "start_time": "2024-06-13T12:02:52.983911800Z"
    },
    "collapsed": false
   },
   "outputs": [
    {
     "name": "stdout",
     "output_type": "stream",
     "text": [
      "loading model from ./checkpoints/ETTm1_SOFTS_96_96/checkpoint.pth\n",
      "(11521, 96, 7)\n"
     ]
    }
   ],
   "source": [
    "# get predictions\n",
    "predictions = Exp.predict(setting=setting, pred_data=test_data)\n",
    "print(predictions.shape)"
   ]
  }
 ],
 "metadata": {
  "kernelspec": {
   "display_name": "Python 3",
   "language": "python",
   "name": "python3"
  },
  "language_info": {
   "codemirror_mode": {
    "name": "ipython",
    "version": 3
   },
   "file_extension": ".py",
   "mimetype": "text/x-python",
   "name": "python",
   "nbconvert_exporter": "python",
   "pygments_lexer": "ipython3",
   "version": "3.12.2"
  }
 },
 "nbformat": 4,
 "nbformat_minor": 5
}
